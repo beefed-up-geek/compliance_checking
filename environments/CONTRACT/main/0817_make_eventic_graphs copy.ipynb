{
 "cells": [
  {
   "cell_type": "markdown",
   "id": "55604159",
   "metadata": {},
   "source": [
    "코드 경로: ./environments/CONTRACT/main/0817_make_fusion_graphs.ipynb"
   ]
  },
  {
   "cell_type": "markdown",
   "id": "5777fd47",
   "metadata": {},
   "source": [
    "## 경로 설정"
   ]
  },
  {
   "cell_type": "code",
   "execution_count": 2,
   "id": "38j4jyagfp3",
   "metadata": {},
   "outputs": [
    {
     "name": "stdout",
     "output_type": "stream",
     "text": [
      "Current working directory: /Users/taeyoonkwack/Documents/compliance_checking/environments/CONTRACT/main\n",
      "Changed working directory to: /Users/taeyoonkwack/Documents/compliance_checking\n"
     ]
    },
    {
     "name": "stderr",
     "output_type": "stream",
     "text": [
      "/opt/anaconda3/envs/multi-agent/lib/python3.13/site-packages/tqdm/auto.py:21: TqdmWarning: IProgress not found. Please update jupyter and ipywidgets. See https://ipywidgets.readthedocs.io/en/stable/user_install.html\n",
      "  from .autonotebook import tqdm as notebook_tqdm\n"
     ]
    },
    {
     "name": "stdout",
     "output_type": "stream",
     "text": [
      "❌ Import error: No module named 'eventic_graph_builder'\n",
      "✓ Successfully imported from utils directory\n"
     ]
    }
   ],
   "source": [
    "# utils 절대 경로를 sys.path에 추가\n",
    "import sys\n",
    "import os\n",
    "\n",
    "# 현재 작업 디렉토리에서 프로젝트 루트로 이동\n",
    "PROJECT_ROOT = \"/Users/taeyoonkwack/Documents/compliance_checking\"\n",
    "if PROJECT_ROOT not in sys.path:\n",
    "    sys.path.insert(0, PROJECT_ROOT)\n",
    "\n",
    "# 현재 작업 디렉토리 확인 및 변경\n",
    "print(f\"Current working directory: {os.getcwd()}\")\n",
    "os.chdir(PROJECT_ROOT)\n",
    "print(f\"Changed working directory to: {os.getcwd()}\")\n",
    "\n",
    "# 표준 임포트\n",
    "import re\n",
    "import json\n",
    "from typing import Dict, List, Optional\n",
    "import pandas as pd\n",
    "from tqdm.auto import tqdm\n",
    "\n",
    "# utils 파이프라인 임포트 (문서 → eventic → fusion)\n",
    "try:\n",
    "    from utils.fusion_graph_builder import build_fusion_graph\n",
    "    import utils.eventic_graph_builder as evg\n",
    "    print(\"✓ Successfully imported utils modules\")\n",
    "except ImportError as e:\n",
    "    print(f\"❌ Import error: {e}\")\n",
    "    # 대안 import 시도\n",
    "    try:\n",
    "        sys.path.insert(0, os.path.join(PROJECT_ROOT, 'utils'))\n",
    "        from fusion_graph_builder import build_fusion_graph\n",
    "        import eventic_graph_builder as evg\n",
    "        print(\"✓ Successfully imported from utils directory\")\n",
    "    except ImportError as e2:\n",
    "        print(f\"❌ Alternative import also failed: {e2}\")\n",
    "        raise\n",
    "\n",
    "INPUT_CSV  = \"environments/CONTRACT/data/manipulated/selected_original_data.csv\"\n",
    "OUTPUT_JSON = \"environments/CONTRACT/data/manipulated/contract_norms_fusion_graph.json\"\n",
    "\n",
    "FUSION_PARAMS = dict(\n",
    "    rounds=2,\n",
    "    use_concept_graph=True,\n",
    "    use_entity_graph=True,\n",
    "    use_term_definition_graph=True,\n",
    "    include_tdg_edges=True,\n",
    ")"
   ]
  },
  {
   "cell_type": "code",
   "execution_count": 3,
   "id": "91abc655",
   "metadata": {},
   "outputs": [
    {
     "name": "stdout",
     "output_type": "stream",
     "text": [
      "첫 번째 행 데이터:\n",
      "contract_id                                                  466\n",
      "norm_id_1                                                  82524\n",
      "norm_id_2                                                  83696\n",
      "norm1          To this end, subject to any confidentiality ag...\n",
      "norm2          Solectron can choose not to inform new industr...\n",
      "conflict                                                       1\n",
      "Name: 0, dtype: object\n",
      "\n",
      "컬럼명:\n",
      "['contract_id', 'norm_id_1', 'norm_id_2', 'norm1', 'norm2', 'conflict']\n",
      "\n",
      "총 198개의 행이 있습니다.\n"
     ]
    }
   ],
   "source": [
    "# CSV 파일 읽기 및 첫 줄 데이터 출력\n",
    "df = pd.read_csv(INPUT_CSV)\n",
    "print(\"첫 번째 행 데이터:\")\n",
    "print(df.iloc[0])\n",
    "print(\"\\n컬럼명:\")\n",
    "print(df.columns.tolist())\n",
    "print(f\"\\n총 {len(df)}개의 행이 있습니다.\")"
   ]
  },
  {
   "cell_type": "code",
   "execution_count": 4,
   "id": "2ec88a96",
   "metadata": {},
   "outputs": [
    {
     "name": "stdout",
     "output_type": "stream",
     "text": [
      "[VERBOSE] Sending request to OpenAI API...\n",
      "[VERBOSE] Raw response: ```json\n",
      "[\n",
      "  {\"Agent\": \"Solectron\", \"Deontic\": \"will\", \"Action\": \"inform acquisition of new and emerging Solectron and industry technology subject to confidentiality agreements Solectron may have\"},\n",
      "  {\"Agent\": \"Solectron\", \"Deontic\": \"will\", \"Action\": \"provide opportunity acquisition of new and emerging Solectron and industry technology subject to confidentiality agreements Solectron may have\"}\n",
      "]\n",
      "```\n",
      "[VERBOSE] Extracted JSON block:\n",
      " [\n",
      "  {\"Agent\": \"Solectron\", \"Deontic\": \"will\", \"Action\": \"inform acquisition of new and emerging Solectron and industry technology subject to confidentiality agreements Solectron may have\"},\n",
      "  {\"Agent\": \"Solectron\", \"Deontic\": \"will\", \"Action\": \"provide opportunity acquisition of new and emerging Solectron and industry technology subject to confidentiality agreements Solectron may have\"}\n",
      "]\n",
      "\n",
      "=== Eventic Graph ===\n",
      "[]\n",
      "[VERBOSE] Build fusion graph start\n",
      "[VERBOSE] Graphs enabled → CG=True, EG=True, TDG=True (include_tdg_edges=True)\n",
      "[VERBOSE] Seed from eventic: 0 edges\n",
      "[VERBOSE] Initial agent queue: []\n",
      "[VERBOSE] Queue empty → stop at round 1\n",
      "[VERBOSE] Build fusion graph end → unique_edges=0\n",
      "\n",
      "=== Fusion Graph ===\n",
      "{\n",
      "  \"edges\": []\n",
      "}\n"
     ]
    }
   ],
   "source": [
    "from utils import build_fusion_graph\n",
    "import utils.eventic_graph_builder as evg\n",
    "import json\n",
    "\n",
    "eventic = evg.build_eventic_graph(df.iloc[0][\"norm1\"])\n",
    "print(\"\\n=== Eventic Graph ===\")\n",
    "print(json.dumps(eventic, ensure_ascii=False, indent=2))\n",
    "\n",
    "# 2) Eventic Graph → Fusion Graph\n",
    "fusion = build_fusion_graph(\n",
    "    eventic,\n",
    "    rounds=2,\n",
    "    use_concept_graph=True,\n",
    "    use_entity_graph=True,\n",
    "    use_term_definition_graph=True,\n",
    "    include_tdg_edges=True\n",
    ")\n",
    "print(\"\\n=== Fusion Graph ===\")\n",
    "print(json.dumps(fusion, ensure_ascii=False, indent=2))"
   ]
  },
  {
   "cell_type": "code",
   "id": "s4s80yv8nb",
   "source": "# 전체 데이터 처리 및 fusion graph 생성\nimport time\n\noutput_file = \"environments/CONTRACT/data/manipulated/contract_fusion_graphs.json\"\nresults = []\n\nprint(f\"Processing {len(df)} contracts...\")\n\nfor idx, row in tqdm(df.iterrows(), total=len(df), desc=\"Processing contracts\"):\n    try:\n        contract_id = row['contract_id']\n        norm_id_1 = row['norm_id_1']\n        norm_id_2 = row['norm_id_2']\n        norm1_text = row['norm1']\n        norm2_text = row['norm2']\n        conflict = row['conflict']\n        \n        print(f\"\\n[{idx+1}/{len(df)}] Processing contract {contract_id}\")\n        \n        # Process norm1\n        print(\"  Building eventic graph for norm1...\")\n        eventic1 = evg.build_eventic_graph(norm1_text)\n        \n        print(\"  Building fusion graph for norm1...\")\n        fusion1 = build_fusion_graph(\n            eventic1,\n            rounds=FUSION_PARAMS['rounds'],\n            use_concept_graph=FUSION_PARAMS['use_concept_graph'],\n            use_entity_graph=FUSION_PARAMS['use_entity_graph'],\n            use_term_definition_graph=FUSION_PARAMS['use_term_definition_graph'],\n            include_tdg_edges=FUSION_PARAMS['include_tdg_edges']\n        )\n        \n        # Process norm2\n        print(\"  Building eventic graph for norm2...\")\n        eventic2 = evg.build_eventic_graph(norm2_text)\n        \n        print(\"  Building fusion graph for norm2...\")\n        fusion2 = build_fusion_graph(\n            eventic2,\n            rounds=FUSION_PARAMS['rounds'],\n            use_concept_graph=FUSION_PARAMS['use_concept_graph'],\n            use_entity_graph=FUSION_PARAMS['use_entity_graph'],\n            use_term_definition_graph=FUSION_PARAMS['use_term_definition_graph'],\n            include_tdg_edges=FUSION_PARAMS['include_tdg_edges']\n        )\n        \n        # 결과 구조 생성\n        result = {\n            \"contract_id\": int(contract_id),\n            \"norm1\": {\n                \"norm_id\": int(norm_id_1),\n                \"norm_text\": norm1_text,\n                \"fusion_graph\": fusion1\n            },\n            \"norm2\": {\n                \"norm_id\": int(norm_id_2),\n                \"norm_text\": norm2_text,\n                \"fusion_graph\": fusion2\n            },\n            \"conflict\": int(conflict)\n        }\n        \n        results.append(result)\n        \n        # 매번 저장 (데이터 유실 방지)\n        with open(output_file, 'w', encoding='utf-8') as f:\n            json.dump(results, f, ensure_ascii=False, indent=2)\n        \n        print(f\"  ✓ Processed and saved contract {contract_id}\")\n        \n        # API 호출 제한을 위한 짧은 대기\n        time.sleep(0.5)\n        \n    except Exception as e:\n        print(f\"  ❌ Error processing contract {contract_id}: {str(e)}\")\n        continue\n\nprint(f\"\\n✓ Processing complete! Saved {len(results)} contracts to {output_file}\")",
   "metadata": {},
   "execution_count": null,
   "outputs": []
  },
  {
   "cell_type": "code",
   "id": "orvm4p8wak",
   "source": "# 결과 확인\nprint(f\"Total processed contracts: {len(results)}\")\nif results:\n    print(\"\\nFirst result structure:\")\n    print(json.dumps(results[0], ensure_ascii=False, indent=2)[:500] + \"...\")",
   "metadata": {},
   "execution_count": null,
   "outputs": []
  }
 ],
 "metadata": {
  "kernelspec": {
   "display_name": "multi-agent",
   "language": "python",
   "name": "python3"
  },
  "language_info": {
   "codemirror_mode": {
    "name": "ipython",
    "version": 3
   },
   "file_extension": ".py",
   "mimetype": "text/x-python",
   "name": "python",
   "nbconvert_exporter": "python",
   "pygments_lexer": "ipython3",
   "version": "3.13.5"
  }
 },
 "nbformat": 4,
 "nbformat_minor": 5
}