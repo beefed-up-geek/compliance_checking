{
 "cells": [
  {
   "cell_type": "code",
   "execution_count": 2,
   "id": "39bcc3ad",
   "metadata": {},
   "outputs": [
    {
     "name": "stdout",
     "output_type": "stream",
     "text": [
      "✅ 샘플 저장 완료: /Users/taeyoonkwack/Documents/compliance_checking/environments/GDPR-13/data/original/sample.tsv\n",
      "라벨 분포:\n",
      " label\n",
      "0    100\n",
      "1     34\n",
      "3     32\n",
      "6     12\n",
      "2      7\n",
      "4      7\n",
      "8      5\n",
      "5      2\n",
      "9      1\n",
      "Name: count, dtype: int64\n"
     ]
    }
   ],
   "source": [
    "# ============================================\n",
    "# 1. 입력 JSON / 출력 JSON 경로 지정\n",
    "# ============================================\n",
    "INPUT_TSV = \"/Users/taeyoonkwack/Documents/compliance_checking/environments/GDPR-13/data/original/data.tsv\"      # 원본 json 파일\n",
    "OUTPUT_TSV = \"/Users/taeyoonkwack/Documents/compliance_checking/environments/GDPR-13/data/original/sample.tsv\"   # 샘플링된 json 파일 저장 위치\n",
    "\n",
    "# ============================================\n",
    "# 2. 데이터 로드 및 200개 샘플링\n",
    "# ============================================\n",
    "import pandas as pd\n",
    "\n",
    "# 데이터 로드\n",
    "df = pd.read_csv(INPUT_TSV, sep=\"\\t\")\n",
    "\n",
    "# label 컬럼 확인\n",
    "if \"label\" not in df.columns:\n",
    "    raise ValueError(\"입력 TSV에 'label' 컬럼이 없습니다.\")\n",
    "\n",
    "# 이진화: label == 0 → 0, label != 0 → 1\n",
    "df[\"_bin\"] = (df[\"label\"].astype(str).str.strip() != \"0\").astype(int)\n",
    "\n",
    "# 클래스별 분리\n",
    "pos = df[df[\"_bin\"] == 1]\n",
    "neg = df[df[\"_bin\"] == 0]\n",
    "\n",
    "# 충분한 데이터 확인\n",
    "if len(pos) < 100 or len(neg) < 100:\n",
    "    raise ValueError(f\"데이터가 부족합니다. pos={len(pos)}, neg={len(neg)}\")\n",
    "\n",
    "# 샘플링 (재현성을 위해 random_state 고정)\n",
    "pos_s = pos.sample(n=100, random_state=42)\n",
    "neg_s = neg.sample(n=100, random_state=42)\n",
    "\n",
    "# 합치고 섞기\n",
    "sample = pd.concat([pos_s, neg_s], axis=0).sample(frac=1.0, random_state=42).drop(columns=[\"_bin\"])\n",
    "\n",
    "# 저장\n",
    "sample.to_csv(OUTPUT_TSV, sep=\"\\t\", index=False)\n",
    "\n",
    "print(f\"✅ 샘플 저장 완료: {OUTPUT_TSV}\")\n",
    "print(\"라벨 분포:\\n\", sample[\"label\"].astype(str).str.strip().value_counts())\n"
   ]
  }
 ],
 "metadata": {
  "kernelspec": {
   "display_name": "multi-agent",
   "language": "python",
   "name": "python3"
  },
  "language_info": {
   "codemirror_mode": {
    "name": "ipython",
    "version": 3
   },
   "file_extension": ".py",
   "mimetype": "text/x-python",
   "name": "python",
   "nbconvert_exporter": "python",
   "pygments_lexer": "ipython3",
   "version": "3.13.5"
  }
 },
 "nbformat": 4,
 "nbformat_minor": 5
}
