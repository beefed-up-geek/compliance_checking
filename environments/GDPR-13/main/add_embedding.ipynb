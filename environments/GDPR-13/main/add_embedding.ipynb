{
 "cells": [
  {
   "cell_type": "code",
   "execution_count": null,
   "id": "b2b48bef",
   "metadata": {},
   "outputs": [
    {
     "name": "stdout",
     "output_type": "stream",
     "text": [
      "로드된 항목 수: 14\n"
     ]
    }
   ],
   "source": [
    "import os, json, time, math\n",
    "from typing import List, Dict, Any, Optional\n",
    "from dotenv import load_dotenv\n",
    "from tqdm import tqdm\n",
    "from openai import OpenAI\n",
    "\n",
    "INPUT_JSON_PATH  = \"../eventic_graph.json\"                 # 원본 데이터 경로\n",
    "OUTPUT_JSON_PATH = \"../eventic_with_embedding.json\" # 저장 경로\n",
    "\n",
    "with open(INPUT_JSON_PATH, \"r\", encoding=\"utf-8\") as f:\n",
    "    data: List[Dict[str, Any]] = json.load(f)\n",
    "\n",
    "print(f\"로드된 항목 수: {len(data)}\")\n",
    "load_dotenv()  # .env 파일에서 OPENAI_API_KEY 읽기\n",
    "api_key = os.getenv(\"OPENAI_API_KEY\")\n",
    "if not api_key:\n",
    "    raise RuntimeError(\"환경변수 OPENAI_API_KEY가 설정되지 않았습니다. .env 파일을 확인하세요.\")\n",
    "    \n"
   ]
  },
  {
   "cell_type": "code",
   "execution_count": 5,
   "id": "9562b5ab",
   "metadata": {},
   "outputs": [],
   "source": [
    "client = OpenAI(api_key=api_key)\n",
    "\n",
    "EMBED_MODEL = \"text-embedding-3-large\"  # 최신 임베딩 모델\n",
    "MAX_RETRIES = 5                         # 재시도 횟수\n",
    "BASE_BACKOFF = 1.5                      # 지수 백오프 배수\n",
    "\n",
    "def get_embedding(text: str, model: str = EMBED_MODEL) -> List[float]:\n",
    "    \"\"\"\n",
    "    OpenAI Embeddings API 호출로 텍스트 임베딩을 반환합니다.\n",
    "    네트워크/한도 오류 등에 대해 지수 백오프 재시도를 수행합니다.\n",
    "    \"\"\"\n",
    "    if text is None:\n",
    "        text = \"\"\n",
    "    text = text.strip()\n",
    "\n",
    "    last_err = None\n",
    "    for attempt in range(1, MAX_RETRIES + 1):\n",
    "        try:\n",
    "            resp = client.embeddings.create(model=model, input=text)\n",
    "            emb = resp.data[0].embedding\n",
    "            return emb\n",
    "        except Exception as e:\n",
    "            last_err = e\n",
    "            sleep_s = (BASE_BACKOFF ** attempt) + (0.1 * attempt)\n",
    "            print(f\"[경고] 임베딩 실패 (시도 {attempt}/{MAX_RETRIES}) -> {e}\\n{sleep_s:.1f}s 대기 후 재시도\")\n",
    "            time.sleep(sleep_s)\n",
    "    # 모두 실패한 경우\n",
    "    raise RuntimeError(f\"임베딩 생성에 반복 실패: {last_err}\")"
   ]
  },
  {
   "cell_type": "code",
   "execution_count": 8,
   "id": "851b3d4e",
   "metadata": {},
   "outputs": [
    {
     "name": "stderr",
     "output_type": "stream",
     "text": [
      "Embedding Conditions: 100%|██████████| 14/14 [00:00<00:00, 155756.65it/s]"
     ]
    },
    {
     "name": "stdout",
     "output_type": "stream",
     "text": [
      "업데이트 완료: 0개, 스킵: 14개\n",
      "저장 완료: ../eventic_with_embedding.json\n"
     ]
    },
    {
     "name": "stderr",
     "output_type": "stream",
     "text": [
      "\n"
     ]
    }
   ],
   "source": [
    "updated = 0\n",
    "skipped = 0\n",
    "\n",
    "for item in tqdm(data, desc=\"Embedding Conditions\"):\n",
    "    # 이미 embedding이 있으면 건너뛰고 싶다면 아래 조건 사용\n",
    "    if \"embedding\" in item and isinstance(item[\"embedding\"], list) and item[\"embedding\"]:\n",
    "        skipped += 1\n",
    "        continue\n",
    "\n",
    "    condition_text = item.get(\"Condition\", \"\")\n",
    "    emb = get_embedding(condition_text, model=EMBED_MODEL)\n",
    "    item[\"embedding\"] = emb\n",
    "    item[\"embedding_model\"] = EMBED_MODEL\n",
    "    item[\"embedding_dim\"] = len(emb)\n",
    "    updated += 1\n",
    "\n",
    "print(f\"업데이트 완료: {updated}개, 스킵: {skipped}개\")\n",
    "# 결과 저장\n",
    "with open(OUTPUT_JSON_PATH, \"w\", encoding=\"utf-8\") as f:\n",
    "    json.dump(data, f, ensure_ascii=False, indent=2)\n",
    "\n",
    "print(f\"저장 완료: {OUTPUT_JSON_PATH}\")\n"
   ]
  }
 ],
 "metadata": {
  "kernelspec": {
   "display_name": "multi-agent",
   "language": "python",
   "name": "python3"
  },
  "language_info": {
   "codemirror_mode": {
    "name": "ipython",
    "version": 3
   },
   "file_extension": ".py",
   "mimetype": "text/x-python",
   "name": "python",
   "nbconvert_exporter": "python",
   "pygments_lexer": "ipython3",
   "version": "3.13.5"
  }
 },
 "nbformat": 4,
 "nbformat_minor": 5
}
