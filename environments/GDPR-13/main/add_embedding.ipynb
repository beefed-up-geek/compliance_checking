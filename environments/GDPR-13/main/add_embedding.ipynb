{
 "cells": [
  {
   "cell_type": "code",
   "execution_count": null,
   "id": "b2b48bef",
   "metadata": {},
   "outputs": [],
   "source": [
    "import os, json, time, math\n",
    "from typing import List, Dict, Any, Optional\n",
    "\n",
    "from dotenv import load_dotenv\n",
    "from tqdm import tqdm\n",
    "\n",
    "# OpenAI SDK (2024+)\n",
    "from openai import OpenAI\n",
    "\n",
    "# ---------- 경로 지정 ----------\n",
    "INPUT_JSON_PATH  = \"../eventic_graph.json\"                 # 원본 데이터 경로\n",
    "OUTPUT_JSON_PATH = \"../eventic_with_embedding.json\" # 저장 경로\n"
   ]
  }
 ],
 "metadata": {
  "kernelspec": {
   "display_name": "multi-agent",
   "language": "python",
   "name": "python3"
  },
  "language_info": {
   "name": "python",
   "version": "3.13.5"
  }
 },
 "nbformat": 4,
 "nbformat_minor": 5
}
